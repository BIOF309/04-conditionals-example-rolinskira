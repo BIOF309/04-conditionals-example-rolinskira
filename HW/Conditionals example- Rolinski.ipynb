{
 "cells": [
  {
   "cell_type": "code",
   "execution_count": 2,
   "metadata": {
    "collapsed": true
   },
   "outputs": [],
   "source": [
    "#write an example of a conditional\n",
    "import numpy as np"
   ]
  },
  {
   "cell_type": "code",
   "execution_count": 143,
   "metadata": {
    "collapsed": true
   },
   "outputs": [],
   "source": [
    "#dataset with laterality index results for 14 subjects\n",
    "laterality_index = [0.3, 0.6, 0.5, 0.3, 0.4, -0.4, -0.4, -0.7, -0.5, -0.3, 0.2, 0.6, -0.6, -0.2, 0.1, -0.3, -0.1, 0.3, 0.3, -0.3, -0.5, 0.6, 0.1, 0.1, 0.2]"
   ]
  },
  {
   "cell_type": "code",
   "execution_count": 144,
   "metadata": {},
   "outputs": [
    {
     "data": {
      "text/plain": [
       "25"
      ]
     },
     "execution_count": 144,
     "metadata": {},
     "output_type": "execute_result"
    }
   ],
   "source": [
    "#total number of datapoints for 14 subjects\n",
    "len(laterality_index)"
   ]
  },
  {
   "cell_type": "code",
   "execution_count": 145,
   "metadata": {},
   "outputs": [],
   "source": [
    "#convert dataset to numpy array\n",
    "LI = np.array(laterality_index)"
   ]
  },
  {
   "cell_type": "code",
   "execution_count": 146,
   "metadata": {},
   "outputs": [
    {
     "name": "stdout",
     "output_type": "stream",
     "text": [
      "These are the subjects that are left hemispheric dominant.\n",
      "0.3\n",
      "These are the subjects that are left hemispheric dominant.\n",
      "0.6\n",
      "These are the subjects that are left hemispheric dominant.\n",
      "0.5\n",
      "These are the subjects that are left hemispheric dominant.\n",
      "0.3\n",
      "These are the subjects that are left hemispheric dominant.\n",
      "0.4\n",
      "These are the subjects that are left hemispheric dominant.\n",
      "0.6\n",
      "These are the subjects that are left hemispheric dominant.\n",
      "0.3\n",
      "These are the subjects that are left hemispheric dominant.\n",
      "0.3\n",
      "These are the subjects that are left hemispheric dominant.\n",
      "0.6\n"
     ]
    }
   ],
   "source": [
    "#find the values in dataset that are left dominant and print their values\n",
    "for i in LI:\n",
    "    if i > 0.2:\n",
    "        print(\"These are the subjects that are left hemispheric dominant.\")\n",
    "        print(i)"
   ]
  },
  {
   "cell_type": "code",
   "execution_count": 147,
   "metadata": {},
   "outputs": [
    {
     "name": "stdout",
     "output_type": "stream",
     "text": [
      "This is the total number of left dominant subjects: 9\n"
     ]
    }
   ],
   "source": [
    "#print total number of left dominant subjects\n",
    "print(\"This is the total number of left dominant subjects: \" + str(np.count_nonzero(LI > 0.2)))"
   ]
  },
  {
   "cell_type": "code",
   "execution_count": 148,
   "metadata": {},
   "outputs": [
    {
     "name": "stdout",
     "output_type": "stream",
     "text": [
      "These are the subjects that are right hemispheric dominant.\n",
      "-0.4\n",
      "These are the subjects that are right hemispheric dominant.\n",
      "-0.4\n",
      "These are the subjects that are right hemispheric dominant.\n",
      "-0.7\n",
      "These are the subjects that are right hemispheric dominant.\n",
      "-0.5\n",
      "These are the subjects that are right hemispheric dominant.\n",
      "-0.3\n",
      "These are the subjects that are right hemispheric dominant.\n",
      "-0.6\n",
      "These are the subjects that are right hemispheric dominant.\n",
      "-0.3\n",
      "These are the subjects that are right hemispheric dominant.\n",
      "-0.3\n",
      "These are the subjects that are right hemispheric dominant.\n",
      "-0.5\n"
     ]
    }
   ],
   "source": [
    "#find the values in dataset that are right dominant and print their values\n",
    "for i in LI:\n",
    "    if i < -0.2:\n",
    "        print(\"These are the subjects that are right hemispheric dominant.\")\n",
    "        print(i)"
   ]
  },
  {
   "cell_type": "code",
   "execution_count": 149,
   "metadata": {},
   "outputs": [
    {
     "name": "stdout",
     "output_type": "stream",
     "text": [
      "This is the total number of right dominant subjects: 9\n"
     ]
    }
   ],
   "source": [
    "#print total number of left dominant subjects\n",
    "print(\"This is the total number of right dominant subjects: \" + str(np.count_nonzero(LI < -0.2)))"
   ]
  },
  {
   "cell_type": "code",
   "execution_count": 150,
   "metadata": {},
   "outputs": [
    {
     "name": "stdout",
     "output_type": "stream",
     "text": [
      "These are the subjects that are bilateral dominant.\n",
      "0.2\n",
      "These are the subjects that are bilateral dominant.\n",
      "-0.2\n",
      "These are the subjects that are bilateral dominant.\n",
      "0.1\n",
      "These are the subjects that are bilateral dominant.\n",
      "-0.1\n",
      "These are the subjects that are bilateral dominant.\n",
      "0.1\n",
      "These are the subjects that are bilateral dominant.\n",
      "0.1\n",
      "These are the subjects that are bilateral dominant.\n",
      "0.2\n"
     ]
    }
   ],
   "source": [
    "#find the values in dataset that are bilateral dominant and print their values\n",
    "for i in LI:\n",
    "    if i <= 0.2 and i >= -0.2:\n",
    "        print(\"These are the subjects that are bilateral dominant.\")\n",
    "        print(i)"
   ]
  },
  {
   "cell_type": "code",
   "execution_count": 151,
   "metadata": {},
   "outputs": [
    {
     "name": "stdout",
     "output_type": "stream",
     "text": [
      "This is the total number of right dominant subjects: 7\n"
     ]
    }
   ],
   "source": [
    "#print total number of bilateral dominant subjects\n",
    "print(\"This is the total number of right dominant subjects: \" + str(np.count_nonzero((LI <= 0.2) & (LI >= -0.2)))) "
   ]
  },
  {
   "cell_type": "code",
   "execution_count": null,
   "metadata": {
    "collapsed": true
   },
   "outputs": [],
   "source": []
  }
 ],
 "metadata": {
  "kernelspec": {
   "display_name": "Python 3",
   "language": "python",
   "name": "python3"
  },
  "language_info": {
   "codemirror_mode": {
    "name": "ipython",
    "version": 3
   },
   "file_extension": ".py",
   "mimetype": "text/x-python",
   "name": "python",
   "nbconvert_exporter": "python",
   "pygments_lexer": "ipython3",
   "version": "3.6.1"
  }
 },
 "nbformat": 4,
 "nbformat_minor": 2
}
